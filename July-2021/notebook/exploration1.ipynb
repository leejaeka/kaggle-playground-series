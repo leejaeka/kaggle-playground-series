{
 "cells": [
  {
   "cell_type": "markdown",
   "id": "6a2df84b",
   "metadata": {},
   "source": [
    "## Exploration \n",
    "https://www.kaggle.com/c/tabular-playground-series-jul-2021/overview\n"
   ]
  },
  {
   "cell_type": "code",
   "execution_count": 12,
   "id": "221d9a12",
   "metadata": {},
   "outputs": [],
   "source": [
    "import pandas as pd\n",
    "import seaborn as sns\n",
    "import matplotlib.pyplot as plt\n",
    "import numpy as np\n",
    "from sklearn.linear_model import LinearRegression\n",
    "\n",
    "## RandomForest\n",
    "from sklearn.ensemble import RandomForestRegressor\n",
    "from sklearn.model_selection import train_test_split\n",
    "from sklearn.model_selection import GridSearchCV\n",
    "from sklearn.metrics import confusion_matrix\n",
    "import shap\n",
    "\n",
    "## SVM\n",
    "from sklearn import preprocessing\n",
    "from sklearn.svm import SVR\n",
    "from sklearn import metrics"
   ]
  },
  {
   "cell_type": "code",
   "execution_count": 4,
   "id": "7d69d0ae",
   "metadata": {},
   "outputs": [
    {
     "name": "stdout",
     "output_type": "stream",
     "text": [
      "7111\n"
     ]
    },
    {
     "data": {
      "text/html": [
       "<div>\n",
       "<style scoped>\n",
       "    .dataframe tbody tr th:only-of-type {\n",
       "        vertical-align: middle;\n",
       "    }\n",
       "\n",
       "    .dataframe tbody tr th {\n",
       "        vertical-align: top;\n",
       "    }\n",
       "\n",
       "    .dataframe thead th {\n",
       "        text-align: right;\n",
       "    }\n",
       "</style>\n",
       "<table border=\"1\" class=\"dataframe\">\n",
       "  <thead>\n",
       "    <tr style=\"text-align: right;\">\n",
       "      <th></th>\n",
       "      <th>date_time</th>\n",
       "      <th>deg_C</th>\n",
       "      <th>relative_humidity</th>\n",
       "      <th>absolute_humidity</th>\n",
       "      <th>sensor_1</th>\n",
       "      <th>sensor_2</th>\n",
       "      <th>sensor_3</th>\n",
       "      <th>sensor_4</th>\n",
       "      <th>sensor_5</th>\n",
       "      <th>target_carbon_monoxide</th>\n",
       "      <th>target_benzene</th>\n",
       "      <th>target_nitrogen_oxides</th>\n",
       "    </tr>\n",
       "  </thead>\n",
       "  <tbody>\n",
       "    <tr>\n",
       "      <th>0</th>\n",
       "      <td>2010-03-10 18:00:00</td>\n",
       "      <td>13.1</td>\n",
       "      <td>46.0</td>\n",
       "      <td>0.7578</td>\n",
       "      <td>1387.2</td>\n",
       "      <td>1087.8</td>\n",
       "      <td>1056.0</td>\n",
       "      <td>1742.8</td>\n",
       "      <td>1293.4</td>\n",
       "      <td>2.5</td>\n",
       "      <td>12.0</td>\n",
       "      <td>167.7</td>\n",
       "    </tr>\n",
       "    <tr>\n",
       "      <th>1</th>\n",
       "      <td>2010-03-10 19:00:00</td>\n",
       "      <td>13.2</td>\n",
       "      <td>45.3</td>\n",
       "      <td>0.7255</td>\n",
       "      <td>1279.1</td>\n",
       "      <td>888.2</td>\n",
       "      <td>1197.5</td>\n",
       "      <td>1449.9</td>\n",
       "      <td>1010.9</td>\n",
       "      <td>2.1</td>\n",
       "      <td>9.9</td>\n",
       "      <td>98.9</td>\n",
       "    </tr>\n",
       "    <tr>\n",
       "      <th>2</th>\n",
       "      <td>2010-03-10 20:00:00</td>\n",
       "      <td>12.6</td>\n",
       "      <td>56.2</td>\n",
       "      <td>0.7502</td>\n",
       "      <td>1331.9</td>\n",
       "      <td>929.6</td>\n",
       "      <td>1060.2</td>\n",
       "      <td>1586.1</td>\n",
       "      <td>1117.0</td>\n",
       "      <td>2.2</td>\n",
       "      <td>9.2</td>\n",
       "      <td>127.1</td>\n",
       "    </tr>\n",
       "    <tr>\n",
       "      <th>3</th>\n",
       "      <td>2010-03-10 21:00:00</td>\n",
       "      <td>11.0</td>\n",
       "      <td>62.4</td>\n",
       "      <td>0.7867</td>\n",
       "      <td>1321.0</td>\n",
       "      <td>929.0</td>\n",
       "      <td>1102.9</td>\n",
       "      <td>1536.5</td>\n",
       "      <td>1263.2</td>\n",
       "      <td>2.2</td>\n",
       "      <td>9.7</td>\n",
       "      <td>177.2</td>\n",
       "    </tr>\n",
       "    <tr>\n",
       "      <th>4</th>\n",
       "      <td>2010-03-10 22:00:00</td>\n",
       "      <td>11.9</td>\n",
       "      <td>59.0</td>\n",
       "      <td>0.7888</td>\n",
       "      <td>1272.0</td>\n",
       "      <td>852.7</td>\n",
       "      <td>1180.9</td>\n",
       "      <td>1415.5</td>\n",
       "      <td>1132.2</td>\n",
       "      <td>1.5</td>\n",
       "      <td>6.4</td>\n",
       "      <td>121.8</td>\n",
       "    </tr>\n",
       "  </tbody>\n",
       "</table>\n",
       "</div>"
      ],
      "text/plain": [
       "             date_time  deg_C  relative_humidity  absolute_humidity  sensor_1  \\\n",
       "0  2010-03-10 18:00:00   13.1               46.0             0.7578    1387.2   \n",
       "1  2010-03-10 19:00:00   13.2               45.3             0.7255    1279.1   \n",
       "2  2010-03-10 20:00:00   12.6               56.2             0.7502    1331.9   \n",
       "3  2010-03-10 21:00:00   11.0               62.4             0.7867    1321.0   \n",
       "4  2010-03-10 22:00:00   11.9               59.0             0.7888    1272.0   \n",
       "\n",
       "   sensor_2  sensor_3  sensor_4  sensor_5  target_carbon_monoxide  \\\n",
       "0    1087.8    1056.0    1742.8    1293.4                     2.5   \n",
       "1     888.2    1197.5    1449.9    1010.9                     2.1   \n",
       "2     929.6    1060.2    1586.1    1117.0                     2.2   \n",
       "3     929.0    1102.9    1536.5    1263.2                     2.2   \n",
       "4     852.7    1180.9    1415.5    1132.2                     1.5   \n",
       "\n",
       "   target_benzene  target_nitrogen_oxides  \n",
       "0            12.0                   167.7  \n",
       "1             9.9                    98.9  \n",
       "2             9.2                   127.1  \n",
       "3             9.7                   177.2  \n",
       "4             6.4                   121.8  "
      ]
     },
     "execution_count": 4,
     "metadata": {},
     "output_type": "execute_result"
    }
   ],
   "source": [
    "df = pd.read_csv('../data/train.csv')\n",
    "print(len(df))\n",
    "df.head()\n"
   ]
  },
  {
   "cell_type": "code",
   "execution_count": null,
   "id": "941c47d2",
   "metadata": {},
   "outputs": [],
   "source": [
    "## Clean data"
   ]
  },
  {
   "cell_type": "code",
   "execution_count": 3,
   "id": "ad575c8b",
   "metadata": {},
   "outputs": [
    {
     "data": {
      "text/plain": [
       "Series([], dtype: int64)"
      ]
     },
     "execution_count": 3,
     "metadata": {},
     "output_type": "execute_result"
    }
   ],
   "source": [
    "nan_count = df.isna().sum()[df.isna().sum() > 0].sort_values(ascending=False)\n",
    "nan_count\n"
   ]
  },
  {
   "cell_type": "code",
   "execution_count": 68,
   "id": "c2280d8c",
   "metadata": {},
   "outputs": [],
   "source": [
    "df.date_time = pd.to_datetime(df.date_time)\n",
    "df['year'] = pd.DatetimeIndex(df['date_time']).year\n",
    "df['month'] = pd.DatetimeIndex(df['date_time']).month\n",
    "df['day'] = pd.DatetimeIndex(df['date_time']).day\n",
    "df['hour'] = pd.DatetimeIndex(df['date_time']).hour"
   ]
  },
  {
   "cell_type": "code",
   "execution_count": 15,
   "id": "0449aa21",
   "metadata": {},
   "outputs": [
    {
     "data": {
      "text/plain": [
       "<AxesSubplot:xlabel='target_nitrogen_oxides', ylabel='Count'>"
      ]
     },
     "execution_count": 15,
     "metadata": {},
     "output_type": "execute_result"
    },
    {
     "data": {
      "image/png": "[encoded data removed]",
      "text/plain": [
       "<Figure size 1440x504 with 3 Axes>"
      ]
     },
     "metadata": {
      "needs_background": "light"
     },
     "output_type": "display_data"
    }
   ],
   "source": [
    "fig, ax =plt.subplots(1,3, figsize=(20, 7))\n",
    "sns.histplot(df.target_carbon_monoxide, ax=ax[0])\n",
    "sns.histplot(df.target_benzene, ax=ax[1])\n",
    "sns.histplot(df.target_nitrogen_oxides, ax=ax[2])\n"
   ]
  },
  {
   "cell_type": "code",
   "execution_count": 32,
   "id": "e4cd3079",
   "metadata": {
    "scrolled": false
   },
   "outputs": [
    {
     "data": {
      "text/plain": [
       "<AxesSubplot:>"
      ]
     },
     "execution_count": 32,
     "metadata": {},
     "output_type": "execute_result"
    },
    {
     "data": {
      "image/png": "[encoded data removed]",
      "text/plain": [
       "<Figure size 720x720 with 2 Axes>"
      ]
     },
     "metadata": {
      "needs_background": "light"
     },
     "output_type": "display_data"
    }
   ],
   "source": [
    "f, ax = plt.subplots(figsize=(10, 10))\n",
    "sns.heatmap(df.corr(), annot=True, square=True)"
   ]
  },
  {
   "cell_type": "code",
   "execution_count": 43,
   "id": "d78230e1",
   "metadata": {},
   "outputs": [],
   "source": [
    "sensors = df[['sensor_1', 'sensor_2', 'sensor_3', 'sensor_4', 'sensor_5']]"
   ]
  },
  {
   "cell_type": "markdown",
   "id": "3e9ec274",
   "metadata": {},
   "source": [
    "## Regression"
   ]
  },
  {
   "cell_type": "code",
   "execution_count": 40,
   "id": "d1b11f47",
   "metadata": {},
   "outputs": [
    {
     "data": {
      "text/plain": [
       "0.9500746847763909"
      ]
     },
     "execution_count": 40,
     "metadata": {},
     "output_type": "execute_result"
    }
   ],
   "source": [
    "reg1 = LinearRegression().fit(sensors, df.target_benzene)\n",
    "reg1.score(sensors, df.target_benzene)"
   ]
  },
  {
   "cell_type": "code",
   "execution_count": 44,
   "id": "289762f6",
   "metadata": {},
   "outputs": [
    {
     "data": {
      "text/plain": [
       "0.8237278819942692"
      ]
     },
     "execution_count": 44,
     "metadata": {},
     "output_type": "execute_result"
    }
   ],
   "source": [
    "reg2 = LinearRegression().fit(sensors, df.target_carbon_monoxide)\n",
    "reg2.score(sensors, df.target_carbon_monoxide)"
   ]
  },
  {
   "cell_type": "code",
   "execution_count": 45,
   "id": "55912b3b",
   "metadata": {},
   "outputs": [
    {
     "data": {
      "text/plain": [
       "0.6493753821722801"
      ]
     },
     "execution_count": 45,
     "metadata": {},
     "output_type": "execute_result"
    }
   ],
   "source": [
    "reg3 = LinearRegression().fit(sensors, df.target_nitrogen_oxides)\n",
    "reg3.score(sensors, df.target_nitrogen_oxides)"
   ]
  },
  {
   "cell_type": "markdown",
   "id": "1c07c03c",
   "metadata": {},
   "source": [
    "## Random Forest "
   ]
  },
  {
   "cell_type": "code",
   "execution_count": 15,
   "id": "70d84e87",
   "metadata": {},
   "outputs": [],
   "source": [
    "X = df.drop(['target_benzene', 'target_carbon_monoxide', 'target_nitrogen_oxides'], axis=1)"
   ]
  },
  {
   "cell_type": "code",
   "execution_count": 17,
   "id": "c1fe4a73",
   "metadata": {},
   "outputs": [
    {
     "name": "stdout",
     "output_type": "stream",
     "text": [
      "{'criterion': 'mse', 'max_depth': 16, 'max_features': 'auto', 'max_leaf_nodes': 64, 'n_estimators': 2000}\n",
      "Root Mean Squared Error (RMSE): 1.2054803675504009\n"
     ]
    }
   ],
   "source": [
    "from sklearn import metrics\n",
    "X_train, X_test, y_train, y_test = train_test_split(X, df.target_benzene, test_size=0.1, random_state=27)\n",
    "\n",
    "#Grid search\n",
    "rnd_reg1 = RandomForestRegressor(n_jobs=-1, random_state=27)\n",
    "param_grid = { \n",
    "    'n_estimators': [2000],\n",
    "    'max_leaf_nodes': [64],\n",
    "    'max_features': ['auto'],\n",
    "    'max_depth' : [16],\n",
    "    'criterion' :['mse']\n",
    "}\n",
    "cv_rnd_reg = GridSearchCV(estimator=rnd_reg1, param_grid=param_grid, cv=5)\n",
    "cv_rnd_reg.fit(X_train, y_train)\n",
    "\n",
    "#Grid search result\n",
    "print(cv_rnd_reg.best_params_)\n",
    "y_test_pred = cv_rnd_reg.predict(X_test)\n",
    "print('Root Mean Squared Error (RMSE):', np.sqrt(metrics.mean_squared_error(y_test, y_test_pred)))"
   ]
  },
  {
   "cell_type": "code",
   "execution_count": 84,
   "id": "640935c6",
   "metadata": {},
   "outputs": [
    {
     "name": "stdout",
     "output_type": "stream",
     "text": [
      "{'criterion': 'mse', 'max_depth': 16, 'max_features': 'auto', 'max_leaf_nodes': 64, 'n_estimators': 2000}\n",
      "Root Mean Squared Error (RMSE): 0.44970386679441954\n"
     ]
    }
   ],
   "source": [
    "X_train, X_test, y_train, y_test = train_test_split(X, df.target_carbon_monoxide, test_size=0.1, random_state=27)\n",
    "\n",
    "\n",
    "#Grid search\n",
    "rnd_reg2 = RandomForestRegressor(n_jobs=-1, random_state=27)\n",
    "param_grid = { \n",
    "    'n_estimators': [2000],\n",
    "    'max_leaf_nodes': [64],\n",
    "    'max_features': ['auto'],\n",
    "    'max_depth' : [16],\n",
    "    'criterion' :['mse']\n",
    "}\n",
    "cv_rnd_reg2 = GridSearchCV(estimator=rnd_reg2, param_grid=param_grid, cv=5)\n",
    "cv_rnd_reg2.fit(X_train, y_train)\n",
    "\n",
    "#Grid search result\n",
    "print(cv_rnd_reg.best_params_)\n",
    "y_test_pred = cv_rnd_reg2.predict(X_test)\n",
    "print('Root Mean Squared Error (RMSE):', np.sqrt(metrics.mean_squared_error(y_test, y_test_pred)))"
   ]
  },
  {
   "cell_type": "code",
   "execution_count": 83,
   "id": "3179a8cc",
   "metadata": {},
   "outputs": [
    {
     "name": "stdout",
     "output_type": "stream",
     "text": [
      "{'criterion': 'mse', 'max_depth': 16, 'max_features': 'auto', 'max_leaf_nodes': 64, 'n_estimators': 2000}\n",
      "Root Mean Squared Error (RMSE): 61.76292845318436\n"
     ]
    }
   ],
   "source": [
    "X_train, X_test, y_train, y_test = train_test_split(X, df.target_nitrogen_oxides, test_size=0.1, random_state=27)\n",
    "\n",
    "\n",
    "#Grid search\n",
    "rnd_reg3 = RandomForestRegressor(n_jobs=-1, random_state=27)\n",
    "param_grid = { \n",
    "    'n_estimators': [2000],\n",
    "    'max_leaf_nodes': [64],\n",
    "    'max_features': ['auto'],\n",
    "    'max_depth' : [16],\n",
    "    'criterion' :['mse']\n",
    "}\n",
    "cv_rnd_reg3 = GridSearchCV(estimator=rnd_reg3, param_grid=param_grid, cv=5)\n",
    "cv_rnd_reg3.fit(X_train, y_train)\n",
    "\n",
    "#Grid search result\n",
    "print(cv_rnd_reg3.best_params_)\n",
    "y_test_pred = cv_rnd_reg3.predict(X_test)\n",
    "print('Root Mean Squared Error (RMSE):', np.sqrt(metrics.mean_squared_error(y_test, y_test_pred)))"
   ]
  },
  {
   "cell_type": "code",
   "execution_count": 98,
   "id": "7e600f07",
   "metadata": {},
   "outputs": [],
   "source": [
    "test = pd.read_csv('../data/test.csv')\n",
    "test.date_time = pd.to_datetime(test.date_time)\n",
    "test['year'] = pd.DatetimeIndex(test['date_time']).year\n",
    "test['month'] = pd.DatetimeIndex(test['date_time']).month\n",
    "test['day'] = pd.DatetimeIndex(test['date_time']).day\n",
    "test['hour'] = pd.DatetimeIndex(test['date_time']).hour"
   ]
  },
  {
   "cell_type": "code",
   "execution_count": 87,
   "id": "d65b758c",
   "metadata": {},
   "outputs": [],
   "source": [
    "test = test.drop('date_time', axis=1)\n",
    "y_test_pred = cv_rnd_reg.predict(test)\n",
    "y_test_pred2 = cv_rnd_reg2.predict(test)\n",
    "y_test_pred3 = cv_rnd_reg3.predict(test)"
   ]
  },
  {
   "cell_type": "code",
   "execution_count": 110,
   "id": "e4d9a71f",
   "metadata": {},
   "outputs": [],
   "source": [
    "test = pd.read_csv('../data/test.csv')\n",
    "submission = test.date_time.copy()\n",
    "submission = pd.DataFrame(submission)\n",
    "submission['target_carbon_monoxide'] = pd.Series(y_test_pred2).values\n",
    "submission['target_benzene'] = pd.Series(y_test_pred).values\n",
    "submission['target_nitrogen_oxides'] = pd.Series(y_test_pred3).values"
   ]
  },
  {
   "cell_type": "code",
   "execution_count": 111,
   "id": "70083c04",
   "metadata": {},
   "outputs": [],
   "source": [
    "submission.to_csv('../submission.csv', index=False)"
   ]
  },
  {
   "cell_type": "markdown",
   "id": "21a09e84",
   "metadata": {},
   "source": [
    "## Support Vector Regressor"
   ]
  },
  {
   "cell_type": "code",
   "execution_count": 55,
   "id": "453559b4",
   "metadata": {},
   "outputs": [
    {
     "data": {
      "text/html": [
       "<div>\n",
       "<style scoped>\n",
       "    .dataframe tbody tr th:only-of-type {\n",
       "        vertical-align: middle;\n",
       "    }\n",
       "\n",
       "    .dataframe tbody tr th {\n",
       "        vertical-align: top;\n",
       "    }\n",
       "\n",
       "    .dataframe thead th {\n",
       "        text-align: right;\n",
       "    }\n",
       "</style>\n",
       "<table border=\"1\" class=\"dataframe\">\n",
       "  <thead>\n",
       "    <tr style=\"text-align: right;\">\n",
       "      <th></th>\n",
       "      <th>deg_C</th>\n",
       "      <th>relative_humidity</th>\n",
       "      <th>absolute_humidity</th>\n",
       "      <th>sensor_1</th>\n",
       "      <th>sensor_2</th>\n",
       "      <th>sensor_3</th>\n",
       "      <th>sensor_4</th>\n",
       "      <th>sensor_5</th>\n",
       "      <th>target_carbon_monoxide</th>\n",
       "      <th>target_benzene</th>\n",
       "      <th>target_nitrogen_oxides</th>\n",
       "      <th>year</th>\n",
       "      <th>month</th>\n",
       "      <th>day</th>\n",
       "      <th>hour</th>\n",
       "    </tr>\n",
       "  </thead>\n",
       "  <tbody>\n",
       "    <tr>\n",
       "      <th>0</th>\n",
       "      <td>13.1</td>\n",
       "      <td>46.0</td>\n",
       "      <td>0.7578</td>\n",
       "      <td>1387.2</td>\n",
       "      <td>1087.8</td>\n",
       "      <td>1056.0</td>\n",
       "      <td>1742.8</td>\n",
       "      <td>1293.4</td>\n",
       "      <td>2.5</td>\n",
       "      <td>12.0</td>\n",
       "      <td>167.7</td>\n",
       "      <td>2010</td>\n",
       "      <td>3</td>\n",
       "      <td>10</td>\n",
       "      <td>18</td>\n",
       "    </tr>\n",
       "    <tr>\n",
       "      <th>1</th>\n",
       "      <td>13.2</td>\n",
       "      <td>45.3</td>\n",
       "      <td>0.7255</td>\n",
       "      <td>1279.1</td>\n",
       "      <td>888.2</td>\n",
       "      <td>1197.5</td>\n",
       "      <td>1449.9</td>\n",
       "      <td>1010.9</td>\n",
       "      <td>2.1</td>\n",
       "      <td>9.9</td>\n",
       "      <td>98.9</td>\n",
       "      <td>2010</td>\n",
       "      <td>3</td>\n",
       "      <td>10</td>\n",
       "      <td>19</td>\n",
       "    </tr>\n",
       "    <tr>\n",
       "      <th>2</th>\n",
       "      <td>12.6</td>\n",
       "      <td>56.2</td>\n",
       "      <td>0.7502</td>\n",
       "      <td>1331.9</td>\n",
       "      <td>929.6</td>\n",
       "      <td>1060.2</td>\n",
       "      <td>1586.1</td>\n",
       "      <td>1117.0</td>\n",
       "      <td>2.2</td>\n",
       "      <td>9.2</td>\n",
       "      <td>127.1</td>\n",
       "      <td>2010</td>\n",
       "      <td>3</td>\n",
       "      <td>10</td>\n",
       "      <td>20</td>\n",
       "    </tr>\n",
       "    <tr>\n",
       "      <th>3</th>\n",
       "      <td>11.0</td>\n",
       "      <td>62.4</td>\n",
       "      <td>0.7867</td>\n",
       "      <td>1321.0</td>\n",
       "      <td>929.0</td>\n",
       "      <td>1102.9</td>\n",
       "      <td>1536.5</td>\n",
       "      <td>1263.2</td>\n",
       "      <td>2.2</td>\n",
       "      <td>9.7</td>\n",
       "      <td>177.2</td>\n",
       "      <td>2010</td>\n",
       "      <td>3</td>\n",
       "      <td>10</td>\n",
       "      <td>21</td>\n",
       "    </tr>\n",
       "    <tr>\n",
       "      <th>4</th>\n",
       "      <td>11.9</td>\n",
       "      <td>59.0</td>\n",
       "      <td>0.7888</td>\n",
       "      <td>1272.0</td>\n",
       "      <td>852.7</td>\n",
       "      <td>1180.9</td>\n",
       "      <td>1415.5</td>\n",
       "      <td>1132.2</td>\n",
       "      <td>1.5</td>\n",
       "      <td>6.4</td>\n",
       "      <td>121.8</td>\n",
       "      <td>2010</td>\n",
       "      <td>3</td>\n",
       "      <td>10</td>\n",
       "      <td>22</td>\n",
       "    </tr>\n",
       "    <tr>\n",
       "      <th>...</th>\n",
       "      <td>...</td>\n",
       "      <td>...</td>\n",
       "      <td>...</td>\n",
       "      <td>...</td>\n",
       "      <td>...</td>\n",
       "      <td>...</td>\n",
       "      <td>...</td>\n",
       "      <td>...</td>\n",
       "      <td>...</td>\n",
       "      <td>...</td>\n",
       "      <td>...</td>\n",
       "      <td>...</td>\n",
       "      <td>...</td>\n",
       "      <td>...</td>\n",
       "      <td>...</td>\n",
       "    </tr>\n",
       "    <tr>\n",
       "      <th>7106</th>\n",
       "      <td>9.2</td>\n",
       "      <td>32.0</td>\n",
       "      <td>0.3871</td>\n",
       "      <td>1000.5</td>\n",
       "      <td>811.2</td>\n",
       "      <td>873.0</td>\n",
       "      <td>909.0</td>\n",
       "      <td>910.5</td>\n",
       "      <td>1.3</td>\n",
       "      <td>5.1</td>\n",
       "      <td>191.1</td>\n",
       "      <td>2010</td>\n",
       "      <td>12</td>\n",
       "      <td>31</td>\n",
       "      <td>20</td>\n",
       "    </tr>\n",
       "    <tr>\n",
       "      <th>7107</th>\n",
       "      <td>9.1</td>\n",
       "      <td>33.2</td>\n",
       "      <td>0.3766</td>\n",
       "      <td>1022.7</td>\n",
       "      <td>790.0</td>\n",
       "      <td>951.6</td>\n",
       "      <td>912.9</td>\n",
       "      <td>903.4</td>\n",
       "      <td>1.4</td>\n",
       "      <td>5.8</td>\n",
       "      <td>221.3</td>\n",
       "      <td>2010</td>\n",
       "      <td>12</td>\n",
       "      <td>31</td>\n",
       "      <td>21</td>\n",
       "    </tr>\n",
       "    <tr>\n",
       "      <th>7108</th>\n",
       "      <td>9.6</td>\n",
       "      <td>34.6</td>\n",
       "      <td>0.4310</td>\n",
       "      <td>1044.4</td>\n",
       "      <td>767.3</td>\n",
       "      <td>861.9</td>\n",
       "      <td>889.2</td>\n",
       "      <td>1159.1</td>\n",
       "      <td>1.6</td>\n",
       "      <td>5.2</td>\n",
       "      <td>227.4</td>\n",
       "      <td>2010</td>\n",
       "      <td>12</td>\n",
       "      <td>31</td>\n",
       "      <td>22</td>\n",
       "    </tr>\n",
       "    <tr>\n",
       "      <th>7109</th>\n",
       "      <td>8.0</td>\n",
       "      <td>40.7</td>\n",
       "      <td>0.4085</td>\n",
       "      <td>952.8</td>\n",
       "      <td>691.9</td>\n",
       "      <td>908.5</td>\n",
       "      <td>917.0</td>\n",
       "      <td>1206.3</td>\n",
       "      <td>1.5</td>\n",
       "      <td>4.6</td>\n",
       "      <td>199.8</td>\n",
       "      <td>2010</td>\n",
       "      <td>12</td>\n",
       "      <td>31</td>\n",
       "      <td>23</td>\n",
       "    </tr>\n",
       "    <tr>\n",
       "      <th>7110</th>\n",
       "      <td>8.0</td>\n",
       "      <td>41.3</td>\n",
       "      <td>0.4375</td>\n",
       "      <td>1108.8</td>\n",
       "      <td>745.7</td>\n",
       "      <td>797.1</td>\n",
       "      <td>880.0</td>\n",
       "      <td>1273.1</td>\n",
       "      <td>1.4</td>\n",
       "      <td>4.1</td>\n",
       "      <td>186.5</td>\n",
       "      <td>2011</td>\n",
       "      <td>1</td>\n",
       "      <td>1</td>\n",
       "      <td>0</td>\n",
       "    </tr>\n",
       "  </tbody>\n",
       "</table>\n",
       "<p>7111 rows × 15 columns</p>\n",
       "</div>"
      ],
      "text/plain": [
       "      deg_C  relative_humidity  absolute_humidity  sensor_1  sensor_2  \\\n",
       "0      13.1               46.0             0.7578    1387.2    1087.8   \n",
       "1      13.2               45.3             0.7255    1279.1     888.2   \n",
       "2      12.6               56.2             0.7502    1331.9     929.6   \n",
       "3      11.0               62.4             0.7867    1321.0     929.0   \n",
       "4      11.9               59.0             0.7888    1272.0     852.7   \n",
       "...     ...                ...                ...       ...       ...   \n",
       "7106    9.2               32.0             0.3871    1000.5     811.2   \n",
       "7107    9.1               33.2             0.3766    1022.7     790.0   \n",
       "7108    9.6               34.6             0.4310    1044.4     767.3   \n",
       "7109    8.0               40.7             0.4085     952.8     691.9   \n",
       "7110    8.0               41.3             0.4375    1108.8     745.7   \n",
       "\n",
       "      sensor_3  sensor_4  sensor_5  target_carbon_monoxide  target_benzene  \\\n",
       "0       1056.0    1742.8    1293.4                     2.5            12.0   \n",
       "1       1197.5    1449.9    1010.9                     2.1             9.9   \n",
       "2       1060.2    1586.1    1117.0                     2.2             9.2   \n",
       "3       1102.9    1536.5    1263.2                     2.2             9.7   \n",
       "4       1180.9    1415.5    1132.2                     1.5             6.4   \n",
       "...        ...       ...       ...                     ...             ...   \n",
       "7106     873.0     909.0     910.5                     1.3             5.1   \n",
       "7107     951.6     912.9     903.4                     1.4             5.8   \n",
       "7108     861.9     889.2    1159.1                     1.6             5.2   \n",
       "7109     908.5     917.0    1206.3                     1.5             4.6   \n",
       "7110     797.1     880.0    1273.1                     1.4             4.1   \n",
       "\n",
       "      target_nitrogen_oxides  year  month  day  hour  \n",
       "0                      167.7  2010      3   10    18  \n",
       "1                       98.9  2010      3   10    19  \n",
       "2                      127.1  2010      3   10    20  \n",
       "3                      177.2  2010      3   10    21  \n",
       "4                      121.8  2010      3   10    22  \n",
       "...                      ...   ...    ...  ...   ...  \n",
       "7106                   191.1  2010     12   31    20  \n",
       "7107                   221.3  2010     12   31    21  \n",
       "7108                   227.4  2010     12   31    22  \n",
       "7109                   199.8  2010     12   31    23  \n",
       "7110                   186.5  2011      1    1     0  \n",
       "\n",
       "[7111 rows x 15 columns]"
      ]
     },
     "execution_count": 55,
     "metadata": {},
     "output_type": "execute_result"
    }
   ],
   "source": [
    "df"
   ]
  },
  {
   "cell_type": "code",
   "execution_count": 59,
   "id": "3f9d42bf",
   "metadata": {},
   "outputs": [
    {
     "name": "stdout",
     "output_type": "stream",
     "text": [
      "0       0.187107\n",
      "1       0.154088\n",
      "2       0.143082\n",
      "3       0.150943\n",
      "4       0.099057\n",
      "          ...   \n",
      "7106    0.078616\n",
      "7107    0.089623\n",
      "7108    0.080189\n",
      "7109    0.070755\n",
      "7110    0.062893\n",
      "Length: 7111, dtype: float64\n"
     ]
    }
   ],
   "source": [
    "# df.date_time = pd.to_datetime(df.date_time)\n",
    "# df['year'] = pd.DatetimeIndex(df['date_time']).year\n",
    "# df['month'] = pd.DatetimeIndex(df['date_time']).month\n",
    "# df['day'] = pd.DatetimeIndex(df['date_time']).day\n",
    "# df['hour'] = pd.DatetimeIndex(df['date_time']).hour\n",
    "min_max_scaler_benzene = preprocessing.MinMaxScaler()\n",
    "min_max_scaler_carbon = preprocessing.MinMaxScaler()\n",
    "min_max_scaler_nitrogen = preprocessing.MinMaxScaler()\n",
    "benzene = pd.Series(min_max_scaler_benzene.fit_transform(pd.DataFrame(df.target_benzene))[:,0])\n",
    "carbon = pd.Series(min_max_scaler_carbon.fit_transform(pd.DataFrame(df.target_carbon_monoxide))[:,0])\n",
    "nitrogen = pd.Series(min_max_scaler_nitrogen.fit_transform(pd.DataFrame(df.target_nitrogen_oxides))[:,0])\n",
    "\n",
    "X = df.drop(['target_benzene', 'target_carbon_monoxide', 'target_nitrogen_oxides'], axis=1)\n",
    "min_max_scaler1 = preprocessing.MinMaxScaler()\n",
    "X = pd.DataFrame(min_max_scaler1.fit_transform(X))\n",
    "X_train, X_test, y_train, y_test = train_test_split(X, benzene, test_size=0.1, random_state=27)\n",
    "\n",
    "# min_max_scaler1 = preprocessing.MinMaxScaler()\n",
    "# X_train = pd.DataFrame(min_max_scaler1.fit_transform(X_train))\n",
    "# X_test = pd.DataFrame(min_max_scaler1.fit_transform(X_test))\n",
    "# y_train = min_max_scaler1.fit_transform(pd.DataFrame(y_train))[:,0]\n",
    "# y_test = min_max_scaler1.fit_transform(pd.DataFrame(y_test))[:,0]"
   ]
  },
  {
   "cell_type": "code",
   "execution_count": 60,
   "id": "f58fae61",
   "metadata": {},
   "outputs": [
    {
     "name": "stdout",
     "output_type": "stream",
     "text": [
      "Root Mean Squared Error: 0.04085744184641882\n"
     ]
    }
   ],
   "source": [
    "svm_lin_reg1 = SVR(kernel=\"linear\", C=100, epsilon=0.1)\n",
    "svm_lin_reg1.fit(X_train, y_train)\n",
    "y_pred1 = svm_lin_reg1.predict(X_test)\n",
    "print('Root Mean Squared Error:', np.sqrt(metrics.mean_squared_error(y_test, y_pred1)))"
   ]
  },
  {
   "cell_type": "code",
   "execution_count": 61,
   "id": "6e58529d",
   "metadata": {},
   "outputs": [
    {
     "name": "stdout",
     "output_type": "stream",
     "text": [
      "Root Mean Squared Error: 0.052026929339340715\n"
     ]
    }
   ],
   "source": [
    "X_train, X_test, y_train, y_test = train_test_split(X, carbon, test_size=0.1, random_state=27)\n",
    "\n",
    "svm_lin_reg2 = SVR(kernel=\"linear\", C=100, epsilon=0.1)\n",
    "svm_lin_reg2.fit(X_train, y_train)\n",
    "y_pred2 = svm_lin_reg2.predict(X_test)\n",
    "print('Root Mean Squared Error:', np.sqrt(metrics.mean_squared_error(y_test, y_pred2)))"
   ]
  },
  {
   "cell_type": "code",
   "execution_count": 62,
   "id": "19283d43",
   "metadata": {},
   "outputs": [
    {
     "name": "stdout",
     "output_type": "stream",
     "text": [
      "Root Mean Squared Error: 0.06932398210592247\n"
     ]
    }
   ],
   "source": [
    "X_train, X_test, y_train, y_test = train_test_split(X, nitrogen, test_size=0.1, random_state=27)\n",
    "\n",
    "svm_lin_reg3 = SVR(kernel=\"linear\", C=100, epsilon=0.1)\n",
    "svm_lin_reg3.fit(X_train, y_train)\n",
    "y_pred3 = svm_lin_reg3.predict(X_test)\n",
    "print('Root Mean Squared Error:', np.sqrt(metrics.mean_squared_error(y_test, y_pred3)))"
   ]
  },
  {
   "cell_type": "markdown",
   "id": "f5383a8d",
   "metadata": {},
   "source": [
    "## For submission"
   ]
  },
  {
   "cell_type": "code",
   "execution_count": 68,
   "id": "9b27069f",
   "metadata": {},
   "outputs": [
    {
     "data": {
      "text/html": [
       "<div>\n",
       "<style scoped>\n",
       "    .dataframe tbody tr th:only-of-type {\n",
       "        vertical-align: middle;\n",
       "    }\n",
       "\n",
       "    .dataframe tbody tr th {\n",
       "        vertical-align: top;\n",
       "    }\n",
       "\n",
       "    .dataframe thead th {\n",
       "        text-align: right;\n",
       "    }\n",
       "</style>\n",
       "<table border=\"1\" class=\"dataframe\">\n",
       "  <thead>\n",
       "    <tr style=\"text-align: right;\">\n",
       "      <th></th>\n",
       "      <th>0</th>\n",
       "      <th>1</th>\n",
       "      <th>2</th>\n",
       "      <th>3</th>\n",
       "      <th>4</th>\n",
       "      <th>5</th>\n",
       "      <th>6</th>\n",
       "      <th>7</th>\n",
       "      <th>8</th>\n",
       "      <th>9</th>\n",
       "      <th>10</th>\n",
       "      <th>11</th>\n",
       "    </tr>\n",
       "  </thead>\n",
       "  <tbody>\n",
       "    <tr>\n",
       "      <th>0</th>\n",
       "      <td>0.149554</td>\n",
       "      <td>0.395604</td>\n",
       "      <td>0.117459</td>\n",
       "      <td>0.332766</td>\n",
       "      <td>0.196895</td>\n",
       "      <td>0.215571</td>\n",
       "      <td>0.138549</td>\n",
       "      <td>0.438114</td>\n",
       "      <td>1.0</td>\n",
       "      <td>0.000000</td>\n",
       "      <td>0.0</td>\n",
       "      <td>0.000000</td>\n",
       "    </tr>\n",
       "    <tr>\n",
       "      <th>1</th>\n",
       "      <td>0.084821</td>\n",
       "      <td>0.522589</td>\n",
       "      <td>0.126759</td>\n",
       "      <td>0.428610</td>\n",
       "      <td>0.258382</td>\n",
       "      <td>0.167184</td>\n",
       "      <td>0.177856</td>\n",
       "      <td>0.625579</td>\n",
       "      <td>1.0</td>\n",
       "      <td>0.000000</td>\n",
       "      <td>0.0</td>\n",
       "      <td>0.043478</td>\n",
       "    </tr>\n",
       "    <tr>\n",
       "      <th>2</th>\n",
       "      <td>0.100446</td>\n",
       "      <td>0.520147</td>\n",
       "      <td>0.132910</td>\n",
       "      <td>0.328542</td>\n",
       "      <td>0.265140</td>\n",
       "      <td>0.169754</td>\n",
       "      <td>0.164768</td>\n",
       "      <td>0.449892</td>\n",
       "      <td>1.0</td>\n",
       "      <td>0.000000</td>\n",
       "      <td>0.0</td>\n",
       "      <td>0.086957</td>\n",
       "    </tr>\n",
       "    <tr>\n",
       "      <th>3</th>\n",
       "      <td>0.082589</td>\n",
       "      <td>0.529915</td>\n",
       "      <td>0.133107</td>\n",
       "      <td>0.353815</td>\n",
       "      <td>0.284845</td>\n",
       "      <td>0.183889</td>\n",
       "      <td>0.194036</td>\n",
       "      <td>0.442323</td>\n",
       "      <td>1.0</td>\n",
       "      <td>0.000000</td>\n",
       "      <td>0.0</td>\n",
       "      <td>0.130435</td>\n",
       "    </tr>\n",
       "    <tr>\n",
       "      <th>4</th>\n",
       "      <td>0.071429</td>\n",
       "      <td>0.593407</td>\n",
       "      <td>0.130991</td>\n",
       "      <td>0.273910</td>\n",
       "      <td>0.244764</td>\n",
       "      <td>0.248538</td>\n",
       "      <td>0.175399</td>\n",
       "      <td>0.382499</td>\n",
       "      <td>1.0</td>\n",
       "      <td>0.000000</td>\n",
       "      <td>0.0</td>\n",
       "      <td>0.173913</td>\n",
       "    </tr>\n",
       "    <tr>\n",
       "      <th>...</th>\n",
       "      <td>...</td>\n",
       "      <td>...</td>\n",
       "      <td>...</td>\n",
       "      <td>...</td>\n",
       "      <td>...</td>\n",
       "      <td>...</td>\n",
       "      <td>...</td>\n",
       "      <td>...</td>\n",
       "      <td>...</td>\n",
       "      <td>...</td>\n",
       "      <td>...</td>\n",
       "      <td>...</td>\n",
       "    </tr>\n",
       "    <tr>\n",
       "      <th>2242</th>\n",
       "      <td>0.488839</td>\n",
       "      <td>0.241758</td>\n",
       "      <td>0.274579</td>\n",
       "      <td>0.490463</td>\n",
       "      <td>0.340400</td>\n",
       "      <td>0.094027</td>\n",
       "      <td>0.347791</td>\n",
       "      <td>0.602534</td>\n",
       "      <td>1.0</td>\n",
       "      <td>0.272727</td>\n",
       "      <td>0.1</td>\n",
       "      <td>0.434783</td>\n",
       "    </tr>\n",
       "    <tr>\n",
       "      <th>2243</th>\n",
       "      <td>0.517857</td>\n",
       "      <td>0.166056</td>\n",
       "      <td>0.252485</td>\n",
       "      <td>0.417234</td>\n",
       "      <td>0.304911</td>\n",
       "      <td>0.135369</td>\n",
       "      <td>0.285145</td>\n",
       "      <td>0.436371</td>\n",
       "      <td>1.0</td>\n",
       "      <td>0.272727</td>\n",
       "      <td>0.1</td>\n",
       "      <td>0.478261</td>\n",
       "    </tr>\n",
       "    <tr>\n",
       "      <th>2244</th>\n",
       "      <td>0.564732</td>\n",
       "      <td>0.123321</td>\n",
       "      <td>0.217400</td>\n",
       "      <td>0.386512</td>\n",
       "      <td>0.355102</td>\n",
       "      <td>0.116182</td>\n",
       "      <td>0.296709</td>\n",
       "      <td>0.356478</td>\n",
       "      <td>1.0</td>\n",
       "      <td>0.272727</td>\n",
       "      <td>0.1</td>\n",
       "      <td>0.521739</td>\n",
       "    </tr>\n",
       "    <tr>\n",
       "      <th>2245</th>\n",
       "      <td>0.620536</td>\n",
       "      <td>0.046398</td>\n",
       "      <td>0.155054</td>\n",
       "      <td>0.294891</td>\n",
       "      <td>0.332714</td>\n",
       "      <td>0.173431</td>\n",
       "      <td>0.193528</td>\n",
       "      <td>0.240571</td>\n",
       "      <td>1.0</td>\n",
       "      <td>0.272727</td>\n",
       "      <td>0.1</td>\n",
       "      <td>0.565217</td>\n",
       "    </tr>\n",
       "    <tr>\n",
       "      <th>2246</th>\n",
       "      <td>0.593750</td>\n",
       "      <td>0.056166</td>\n",
       "      <td>0.149592</td>\n",
       "      <td>0.343529</td>\n",
       "      <td>0.368513</td>\n",
       "      <td>0.131868</td>\n",
       "      <td>0.215342</td>\n",
       "      <td>0.243760</td>\n",
       "      <td>1.0</td>\n",
       "      <td>0.272727</td>\n",
       "      <td>0.1</td>\n",
       "      <td>0.608696</td>\n",
       "    </tr>\n",
       "  </tbody>\n",
       "</table>\n",
       "<p>2247 rows × 12 columns</p>\n",
       "</div>"
      ],
      "text/plain": [
       "            0         1         2         3         4         5         6   \\\n",
       "0     0.149554  0.395604  0.117459  0.332766  0.196895  0.215571  0.138549   \n",
       "1     0.084821  0.522589  0.126759  0.428610  0.258382  0.167184  0.177856   \n",
       "2     0.100446  0.520147  0.132910  0.328542  0.265140  0.169754  0.164768   \n",
       "3     0.082589  0.529915  0.133107  0.353815  0.284845  0.183889  0.194036   \n",
       "4     0.071429  0.593407  0.130991  0.273910  0.244764  0.248538  0.175399   \n",
       "...        ...       ...       ...       ...       ...       ...       ...   \n",
       "2242  0.488839  0.241758  0.274579  0.490463  0.340400  0.094027  0.347791   \n",
       "2243  0.517857  0.166056  0.252485  0.417234  0.304911  0.135369  0.285145   \n",
       "2244  0.564732  0.123321  0.217400  0.386512  0.355102  0.116182  0.296709   \n",
       "2245  0.620536  0.046398  0.155054  0.294891  0.332714  0.173431  0.193528   \n",
       "2246  0.593750  0.056166  0.149592  0.343529  0.368513  0.131868  0.215342   \n",
       "\n",
       "            7    8         9    10        11  \n",
       "0     0.438114  1.0  0.000000  0.0  0.000000  \n",
       "1     0.625579  1.0  0.000000  0.0  0.043478  \n",
       "2     0.449892  1.0  0.000000  0.0  0.086957  \n",
       "3     0.442323  1.0  0.000000  0.0  0.130435  \n",
       "4     0.382499  1.0  0.000000  0.0  0.173913  \n",
       "...        ...  ...       ...  ...       ...  \n",
       "2242  0.602534  1.0  0.272727  0.1  0.434783  \n",
       "2243  0.436371  1.0  0.272727  0.1  0.478261  \n",
       "2244  0.356478  1.0  0.272727  0.1  0.521739  \n",
       "2245  0.240571  1.0  0.272727  0.1  0.565217  \n",
       "2246  0.243760  1.0  0.272727  0.1  0.608696  \n",
       "\n",
       "[2247 rows x 12 columns]"
      ]
     },
     "execution_count": 68,
     "metadata": {},
     "output_type": "execute_result"
    }
   ],
   "source": [
    "test = pd.read_csv('../data/test.csv')\n",
    "test.date_time = pd.to_datetime(test.date_time)\n",
    "test['year'] = pd.DatetimeIndex(test['date_time']).year\n",
    "test['month'] = pd.DatetimeIndex(test['date_time']).month\n",
    "test['day'] = pd.DatetimeIndex(test['date_time']).day\n",
    "test['hour'] = pd.DatetimeIndex(test['date_time']).hour\n",
    "test = test.drop('date_time', axis=1)\n",
    "\n",
    "test1 = pd.DataFrame(min_max_scaler1.transform(test))\n",
    "test1"
   ]
  },
  {
   "cell_type": "code",
   "execution_count": 86,
   "id": "0d74a6f0",
   "metadata": {},
   "outputs": [],
   "source": [
    "y_test_pred1 = svm_lin_reg1.predict(test1)\n",
    "y_test_pred2 = svm_lin_reg2.predict(test1)\n",
    "y_test_pred3 = svm_lin_reg3.predict(test1)\n",
    "\n",
    "test = pd.read_csv('../data/test.csv')\n",
    "submission = test.date_time.copy()\n",
    "submission = pd.DataFrame(submission)"
   ]
  },
  {
   "cell_type": "code",
   "execution_count": 85,
   "id": "b4a0d993",
   "metadata": {},
   "outputs": [
    {
     "data": {
      "text/plain": [
       "array([[0.16642955],\n",
       "       [0.93513678],\n",
       "       [0.30750239],\n",
       "       ...,\n",
       "       [2.37655829],\n",
       "       [1.64761477],\n",
       "       [2.01503412]])"
      ]
     },
     "execution_count": 85,
     "metadata": {},
     "output_type": "execute_result"
    }
   ],
   "source": [
    "testing = min_max_scaler_carbon.inverse_transform(y_test_pred2.reshape(-1,1))\n",
    "#y_test_pred2.reshape(-1,1)\n",
    "testing"
   ]
  },
  {
   "cell_type": "code",
   "execution_count": 89,
   "id": "f32a3490",
   "metadata": {},
   "outputs": [],
   "source": [
    "submission['target_carbon_monoxide'] = min_max_scaler_carbon.inverse_transform(y_test_pred2.reshape(-1,1))\n",
    "submission['target_benzene'] = min_max_scaler_benzene.inverse_transform(y_test_pred1.reshape(-1,1))\n",
    "submission['target_nitrogen_oxides'] = min_max_scaler_nitrogen.inverse_transform(y_test_pred3.reshape(-1,1))"
   ]
  },
  {
   "cell_type": "code",
   "execution_count": 90,
   "id": "a768dab2",
   "metadata": {},
   "outputs": [
    {
     "data": {
      "text/html": [
       "<div>\n",
       "<style scoped>\n",
       "    .dataframe tbody tr th:only-of-type {\n",
       "        vertical-align: middle;\n",
       "    }\n",
       "\n",
       "    .dataframe tbody tr th {\n",
       "        vertical-align: top;\n",
       "    }\n",
       "\n",
       "    .dataframe thead th {\n",
       "        text-align: right;\n",
       "    }\n",
       "</style>\n",
       "<table border=\"1\" class=\"dataframe\">\n",
       "  <thead>\n",
       "    <tr style=\"text-align: right;\">\n",
       "      <th></th>\n",
       "      <th>date_time</th>\n",
       "      <th>target_carbon_monoxide</th>\n",
       "      <th>target_benzene</th>\n",
       "      <th>target_nitrogen_oxides</th>\n",
       "    </tr>\n",
       "  </thead>\n",
       "  <tbody>\n",
       "    <tr>\n",
       "      <th>0</th>\n",
       "      <td>2011-01-01 00:00:00</td>\n",
       "      <td>0.166430</td>\n",
       "      <td>2.073202</td>\n",
       "      <td>39.182373</td>\n",
       "    </tr>\n",
       "    <tr>\n",
       "      <th>1</th>\n",
       "      <td>2011-01-01 01:00:00</td>\n",
       "      <td>0.935137</td>\n",
       "      <td>6.088034</td>\n",
       "      <td>156.681312</td>\n",
       "    </tr>\n",
       "    <tr>\n",
       "      <th>2</th>\n",
       "      <td>2011-01-01 02:00:00</td>\n",
       "      <td>0.307502</td>\n",
       "      <td>5.845558</td>\n",
       "      <td>91.461969</td>\n",
       "    </tr>\n",
       "    <tr>\n",
       "      <th>3</th>\n",
       "      <td>2011-01-01 03:00:00</td>\n",
       "      <td>0.655705</td>\n",
       "      <td>7.354885</td>\n",
       "      <td>112.324168</td>\n",
       "    </tr>\n",
       "    <tr>\n",
       "      <th>4</th>\n",
       "      <td>2011-01-01 04:00:00</td>\n",
       "      <td>0.238533</td>\n",
       "      <td>4.725809</td>\n",
       "      <td>69.519095</td>\n",
       "    </tr>\n",
       "    <tr>\n",
       "      <th>...</th>\n",
       "      <td>...</td>\n",
       "      <td>...</td>\n",
       "      <td>...</td>\n",
       "      <td>...</td>\n",
       "    </tr>\n",
       "    <tr>\n",
       "      <th>2242</th>\n",
       "      <td>2011-04-04 10:00:00</td>\n",
       "      <td>2.935662</td>\n",
       "      <td>12.802415</td>\n",
       "      <td>285.279493</td>\n",
       "    </tr>\n",
       "    <tr>\n",
       "      <th>2243</th>\n",
       "      <td>2011-04-04 11:00:00</td>\n",
       "      <td>2.272509</td>\n",
       "      <td>10.308858</td>\n",
       "      <td>209.415906</td>\n",
       "    </tr>\n",
       "    <tr>\n",
       "      <th>2244</th>\n",
       "      <td>2011-04-04 12:00:00</td>\n",
       "      <td>2.376558</td>\n",
       "      <td>13.267162</td>\n",
       "      <td>223.953577</td>\n",
       "    </tr>\n",
       "    <tr>\n",
       "      <th>2245</th>\n",
       "      <td>2011-04-04 13:00:00</td>\n",
       "      <td>1.647615</td>\n",
       "      <td>11.523063</td>\n",
       "      <td>184.647182</td>\n",
       "    </tr>\n",
       "    <tr>\n",
       "      <th>2246</th>\n",
       "      <td>2011-04-04 14:00:00</td>\n",
       "      <td>2.015034</td>\n",
       "      <td>13.797439</td>\n",
       "      <td>218.842869</td>\n",
       "    </tr>\n",
       "  </tbody>\n",
       "</table>\n",
       "<p>2247 rows × 4 columns</p>\n",
       "</div>"
      ],
      "text/plain": [
       "                date_time  target_carbon_monoxide  target_benzene  \\\n",
       "0     2011-01-01 00:00:00                0.166430        2.073202   \n",
       "1     2011-01-01 01:00:00                0.935137        6.088034   \n",
       "2     2011-01-01 02:00:00                0.307502        5.845558   \n",
       "3     2011-01-01 03:00:00                0.655705        7.354885   \n",
       "4     2011-01-01 04:00:00                0.238533        4.725809   \n",
       "...                   ...                     ...             ...   \n",
       "2242  2011-04-04 10:00:00                2.935662       12.802415   \n",
       "2243  2011-04-04 11:00:00                2.272509       10.308858   \n",
       "2244  2011-04-04 12:00:00                2.376558       13.267162   \n",
       "2245  2011-04-04 13:00:00                1.647615       11.523063   \n",
       "2246  2011-04-04 14:00:00                2.015034       13.797439   \n",
       "\n",
       "      target_nitrogen_oxides  \n",
       "0                  39.182373  \n",
       "1                 156.681312  \n",
       "2                  91.461969  \n",
       "3                 112.324168  \n",
       "4                  69.519095  \n",
       "...                      ...  \n",
       "2242              285.279493  \n",
       "2243              209.415906  \n",
       "2244              223.953577  \n",
       "2245              184.647182  \n",
       "2246              218.842869  \n",
       "\n",
       "[2247 rows x 4 columns]"
      ]
     },
     "execution_count": 90,
     "metadata": {},
     "output_type": "execute_result"
    }
   ],
   "source": [
    "submission"
   ]
  },
  {
   "cell_type": "code",
   "execution_count": 91,
   "id": "28939130",
   "metadata": {},
   "outputs": [],
   "source": [
    "submission.to_csv('../submission.csv', index=False)"
   ]
  },
  {
   "cell_type": "code",
   "execution_count": null,
   "id": "5084b95a",
   "metadata": {},
   "outputs": [],
   "source": []
  }
 ],
 "metadata": {
  "kernelspec": {
   "display_name": "Python 3",
   "language": "python",
   "name": "python3"
  },
  "language_info": {
   "codemirror_mode": {
    "name": "ipython",
    "version": 3
   },
   "file_extension": ".py",
   "mimetype": "text/x-python",
   "name": "python",
   "nbconvert_exporter": "python",
   "pygments_lexer": "ipython3",
   "version": "3.8.5"
  }
 },
 "nbformat": 4,
 "nbformat_minor": 5
}
